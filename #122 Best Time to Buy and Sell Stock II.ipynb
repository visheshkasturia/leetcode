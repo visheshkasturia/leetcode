{
 "cells": [
  {
   "cell_type": "code",
   "execution_count": 15,
   "metadata": {},
   "outputs": [
    {
     "name": "stdout",
     "output_type": "stream",
     "text": [
      "20\n"
     ]
    }
   ],
   "source": [
    "def bestTime(prices):\n",
    "    n=len(prices)\n",
    "    key=0\n",
    "    i=1\n",
    "    profit=0\n",
    "    while i <n:\n",
    "        diff=prices[i]-prices[i-1]\n",
    "        if diff<0:\n",
    "            key=i\n",
    "        else:\n",
    "            profit+=diff\n",
    "        i+=1\n",
    "    \n",
    "    return profit\n",
    "        \n",
    "        \n",
    "\n",
    "prices=[5,4,3,2,6,1,3,2,6,4,2,4,2,1,2,4,7,8,9]\n",
    "print(bestTime(prices))"
   ]
  }
 ],
 "metadata": {
  "kernelspec": {
   "display_name": "Python 3",
   "language": "python",
   "name": "python3"
  },
  "language_info": {
   "codemirror_mode": {
    "name": "ipython",
    "version": 3
   },
   "file_extension": ".py",
   "mimetype": "text/x-python",
   "name": "python",
   "nbconvert_exporter": "python",
   "pygments_lexer": "ipython3",
   "version": "3.7.4"
  }
 },
 "nbformat": 4,
 "nbformat_minor": 2
}

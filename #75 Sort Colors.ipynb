{
 "cells": [
  {
   "cell_type": "code",
   "execution_count": 20,
   "metadata": {},
   "outputs": [],
   "source": [
    "def sort012(nums):\n",
    "    i=0\n",
    "    nz=0\n",
    "    nt=len(nums)-1\n",
    "    \n",
    "    while i<nt:\n",
    "        if nums[i]==0:\n",
    "            if nums[nz]==1 or nums[nz]==0:\n",
    "                nums[i],nums[nz]=nums[nz],nums[i]\n",
    "                nz=nz+1\n",
    "                i=i+1\n",
    "            else:\n",
    "                nums[i],nums[nz]=nums[nz],nums[i]\n",
    "                nz=nz+1\n",
    "        if nums[i]==2:\n",
    "            if nums[nt]==1:\n",
    "                nums[i],nums[nt]=nums[nt],nums[i]\n",
    "                nt=nt-1\n",
    "                i=i+1\n",
    "            else:\n",
    "                nums[i],nums[nt]=nums[nt],nums[i]\n",
    "                nt=nt-1\n",
    "        if nums[i]==1:\n",
    "            i=i+1\n",
    "\n",
    "    \n",
    "nums=[2,1,2]\n",
    "sort012(nums)"
   ]
  }
 ],
 "metadata": {
  "kernelspec": {
   "display_name": "Python 3",
   "language": "python",
   "name": "python3"
  },
  "language_info": {
   "codemirror_mode": {
    "name": "ipython",
    "version": 3
   },
   "file_extension": ".py",
   "mimetype": "text/x-python",
   "name": "python",
   "nbconvert_exporter": "python",
   "pygments_lexer": "ipython3",
   "version": "3.7.4"
  }
 },
 "nbformat": 4,
 "nbformat_minor": 2
}

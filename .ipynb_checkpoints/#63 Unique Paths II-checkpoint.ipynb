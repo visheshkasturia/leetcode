{
 "cells": [
  {
   "cell_type": "code",
   "execution_count": 24,
   "metadata": {},
   "outputs": [
    {
     "name": "stdout",
     "output_type": "stream",
     "text": [
      "[[0], [0]]\n"
     ]
    },
    {
     "data": {
      "text/plain": [
       "0"
      ]
     },
     "execution_count": 24,
     "metadata": {},
     "output_type": "execute_result"
    }
   ],
   "source": [
    "def uniquePathsII(obstacleGrid):\n",
    "    if obstacleGrid==[]:\n",
    "        return 0\n",
    "    m=len(obstacleGrid)\n",
    "    n=len(obstacleGrid[0])\n",
    "    \n",
    "    dp=[[-1 if obstacleGrid[i][j]==0 else 0 for j in range(n)] for i in range(m)]\n",
    "    print(dp)\n",
    "    \n",
    "    for i in range(m-1,-1,-1):\n",
    "        for j in range(n-1,-1,-1):\n",
    "            if dp[i][j]==-1:\n",
    "                if i==m-1 and j==n-1:\n",
    "                    dp[i][j]=1\n",
    "                elif i==m-1:\n",
    "                    dp[i][j]= dp[i][j+1]\n",
    "                elif j==n-1:\n",
    "                    dp[i][j]= dp[i+1][j]\n",
    "                else:\n",
    "                    dp[i][j]=dp[i+1][j] + dp[i][j+1]\n",
    "    return dp[0][0]\n",
    "    \n",
    "obstacleGrid=[[1],[1]]\n",
    "uniquePathsII(obstacleGrid)"
   ]
  }
 ],
 "metadata": {
  "kernelspec": {
   "display_name": "Python 3",
   "language": "python",
   "name": "python3"
  },
  "language_info": {
   "codemirror_mode": {
    "name": "ipython",
    "version": 3
   },
   "file_extension": ".py",
   "mimetype": "text/x-python",
   "name": "python",
   "nbconvert_exporter": "python",
   "pygments_lexer": "ipython3",
   "version": "3.7.4"
  }
 },
 "nbformat": 4,
 "nbformat_minor": 2
}

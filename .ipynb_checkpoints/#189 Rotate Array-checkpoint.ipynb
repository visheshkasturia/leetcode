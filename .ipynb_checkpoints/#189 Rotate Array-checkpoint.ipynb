{
 "cells": [
  {
   "cell_type": "code",
   "execution_count": 7,
   "metadata": {},
   "outputs": [
    {
     "name": "stdout",
     "output_type": "stream",
     "text": [
      "[8, 1, 2, 3, 4, 5, 6, 7]\n"
     ]
    }
   ],
   "source": [
    "def rotateArray(nums,k):\n",
    "    i=0\n",
    "    j=len(nums)-1\n",
    "    k=k%len(nums)\n",
    "    if nums==[]:\n",
    "        return nums\n",
    "    while i<j:\n",
    "        nums[i],nums[j]=nums[j],nums[i]\n",
    "        i+=1\n",
    "        j-=1\n",
    "    \n",
    "    i=k\n",
    "    j=len(nums)-1\n",
    "    while i<j:\n",
    "        nums[i],nums[j]=nums[j],nums[i]\n",
    "        i+=1\n",
    "        j-=1\n",
    "    i=0\n",
    "    j=k-1\n",
    "    while i<j:\n",
    "        nums[i],nums[j]=nums[j],nums[i]\n",
    "        i+=1\n",
    "        j-=1\n",
    "    \n",
    "    return nums\n",
    "    \n",
    "\n",
    "nums=[1,2,3,4,5,6,7,8]\n",
    "rotateArray(nums,9)\n",
    "print(nums)"
   ]
  }
 ],
 "metadata": {
  "kernelspec": {
   "display_name": "Python 3",
   "language": "python",
   "name": "python3"
  },
  "language_info": {
   "codemirror_mode": {
    "name": "ipython",
    "version": 3
   },
   "file_extension": ".py",
   "mimetype": "text/x-python",
   "name": "python",
   "nbconvert_exporter": "python",
   "pygments_lexer": "ipython3",
   "version": "3.7.4"
  }
 },
 "nbformat": 4,
 "nbformat_minor": 2
}

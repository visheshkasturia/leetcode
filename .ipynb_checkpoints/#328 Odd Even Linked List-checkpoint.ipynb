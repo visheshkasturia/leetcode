{
 "cells": [
  {
   "cell_type": "code",
   "execution_count": 14,
   "metadata": {},
   "outputs": [
    {
     "name": "stdout",
     "output_type": "stream",
     "text": [
      "1 2 3 4 5 6 7 -1\n",
      "1->2->3->4->5->6->7->None\n",
      "1->3->2->4->5->6->7->None\n",
      "1->3->5->2->4->6->7->None\n",
      "1->3->5->7->2->4->6->None\n"
     ]
    }
   ],
   "source": [
    "class ListNode:\n",
    "    def __init__(self,data):\n",
    "        self.val=data\n",
    "        self.next=None\n",
    "    \n",
    "\n",
    "def takeInput():\n",
    "    inputList=[int(x) for x in input().split()]\n",
    "    head=None\n",
    "    tail=None\n",
    "    for currData in inputList:\n",
    "        if currData==-1:\n",
    "            break\n",
    "        newNode=ListNode(currData)\n",
    "        if head is None:\n",
    "            head=newNode\n",
    "            tail=newNode\n",
    "        else:\n",
    "            tail.next=newNode\n",
    "            tail=newNode\n",
    "        \n",
    "    return head\n",
    "\n",
    "def printLL(head):\n",
    "    while head is not None:\n",
    "        print(str(head.val)+\"->\",end=\"\")\n",
    "        head=head.next\n",
    "    print(\"None\")\n",
    "    \n",
    "\n",
    "def oddeven(head):\n",
    "    if head is None:\n",
    "        return head\n",
    "    if head.next is None:\n",
    "        return head\n",
    "    curr=head\n",
    "    prev=None\n",
    "    temp=None\n",
    "    first_even=head.next\n",
    "    next_even=first_even\n",
    "    while curr is not None:\n",
    "        if curr==head:\n",
    "            prev=head\n",
    "            curr=first_even.next\n",
    "        else:\n",
    "            prev.next=curr\n",
    "            next_even.next=curr.next\n",
    "            curr.next=first_even\n",
    "            prev=curr\n",
    "            if next_even.next == None:\n",
    "                return head\n",
    "            curr=next_even.next.next\n",
    "            next_even=next_even.next\n",
    "    return head\n",
    "\n",
    "head=takeInput()\n",
    "head=oddeven(head)\n",
    "printLL(head)"
   ]
  }
 ],
 "metadata": {
  "kernelspec": {
   "display_name": "Python 3",
   "language": "python",
   "name": "python3"
  },
  "language_info": {
   "codemirror_mode": {
    "name": "ipython",
    "version": 3
   },
   "file_extension": ".py",
   "mimetype": "text/x-python",
   "name": "python",
   "nbconvert_exporter": "python",
   "pygments_lexer": "ipython3",
   "version": "3.7.4"
  }
 },
 "nbformat": 4,
 "nbformat_minor": 2
}

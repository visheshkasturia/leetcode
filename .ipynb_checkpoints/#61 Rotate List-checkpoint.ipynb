{
 "cells": [
  {
   "cell_type": "code",
   "execution_count": 31,
   "metadata": {},
   "outputs": [
    {
     "name": "stdout",
     "output_type": "stream",
     "text": [
      "1\n",
      "1->None\n",
      "1\n",
      "1->None\n"
     ]
    }
   ],
   "source": [
    "class ListNode:\n",
    "    \n",
    "    def __init__(self,val):\n",
    "        self.val=val\n",
    "        self.next=None\n",
    "\n",
    "def takeInput():\n",
    "    inputList=[ int(x) for x in input().split()]\n",
    "    \n",
    "    \n",
    "    head=None\n",
    "    tail= None\n",
    "    for currData in inputList:\n",
    "        if currData==-1:\n",
    "            break\n",
    "        newNode=ListNode(currData)\n",
    "        if head is None:\n",
    "            head=newNode\n",
    "            tail=newNode\n",
    "        else:\n",
    "            tail.next=newNode\n",
    "            tail=newNode\n",
    "        \n",
    "    return head\n",
    "\n",
    "def printLL(head):\n",
    "    while head is not None:\n",
    "        print(str(head.val)+\"->\",end=\"\")\n",
    "        head=head.next\n",
    "    print(\"None\")\n",
    "\n",
    "\n",
    "def reverseLL(head):\n",
    "        curr=head\n",
    "        prev=None\n",
    "        while curr is not None:\n",
    "            temp=curr.next\n",
    "            curr.next=prev\n",
    "            prev=curr\n",
    "            curr=temp\n",
    "        head=prev\n",
    "        return head\n",
    "\n",
    "def reverseN(head,n):\n",
    "    \n",
    "    if n<=1:\n",
    "        return head\n",
    "    \n",
    "    smallHead=reverseN(head.next,n-1)\n",
    "    temp=head.next.next\n",
    "    head.next.next=head\n",
    "    head.next=temp\n",
    "    \n",
    "    return smallHead\n",
    "    \n",
    "def rotateList(head,n):\n",
    "    \n",
    "    l=lengthLL(head)\n",
    "    if n>l:\n",
    "        n=n%l\n",
    "        \n",
    "    head=reverseN(head,l-n)\n",
    "    head=reverseN(head,l)\n",
    "    head=reverseN(head,n)\n",
    "    \n",
    "    \n",
    "    return head\n",
    "\n",
    "    \n",
    "head=takeInput()\n",
    "printLL(head)\n",
    "print(lengthLL(head))\n",
    "# head=rotateList(head,1)\n",
    "head=rotateList(head,99)\n",
    "printLL(head)"
   ]
  }
 ],
 "metadata": {
  "kernelspec": {
   "display_name": "Python 3",
   "language": "python",
   "name": "python3"
  },
  "language_info": {
   "codemirror_mode": {
    "name": "ipython",
    "version": 3
   },
   "file_extension": ".py",
   "mimetype": "text/x-python",
   "name": "python",
   "nbconvert_exporter": "python",
   "pygments_lexer": "ipython3",
   "version": "3.7.4"
  }
 },
 "nbformat": 4,
 "nbformat_minor": 2
}

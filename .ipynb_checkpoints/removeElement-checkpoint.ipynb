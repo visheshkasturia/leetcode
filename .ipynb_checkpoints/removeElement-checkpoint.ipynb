{
 "cells": [
  {
   "cell_type": "markdown",
   "metadata": {},
   "source": [
    "### Remove Element and return Index till which list is to be taken"
   ]
  },
  {
   "cell_type": "code",
   "execution_count": 1,
   "metadata": {},
   "outputs": [
    {
     "name": "stdout",
     "output_type": "stream",
     "text": [
      "[1, 2, 5, 4, 2, 4, 6, 7, 9, 3, 3]\n"
     ]
    }
   ],
   "source": [
    "def removeElement(li,val):\n",
    "    i=0\n",
    "    j=0\n",
    "    while i<len(li):\n",
    "        if li[i]!=val:\n",
    "            li[i],li[j]=li[j],li[i]\n",
    "            j=j+1\n",
    "        i=i+1\n",
    "    \n",
    "    return j\n",
    "\n",
    "li=[1,2,5,4,2,3,4,3,6,7,9]\n",
    "removeElement(li,3)\n",
    "print(li)"
   ]
  }
 ],
 "metadata": {
  "kernelspec": {
   "display_name": "Python 3",
   "language": "python",
   "name": "python3"
  },
  "language_info": {
   "codemirror_mode": {
    "name": "ipython",
    "version": 3
   },
   "file_extension": ".py",
   "mimetype": "text/x-python",
   "name": "python",
   "nbconvert_exporter": "python",
   "pygments_lexer": "ipython3",
   "version": "3.7.4"
  }
 },
 "nbformat": 4,
 "nbformat_minor": 2
}

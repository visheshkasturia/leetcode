{
 "cells": [
  {
   "cell_type": "code",
   "execution_count": 16,
   "metadata": {},
   "outputs": [
    {
     "name": "stdout",
     "output_type": "stream",
     "text": [
      "21\n"
     ]
    }
   ],
   "source": [
    "def climbStairsDP(n):\n",
    "    dp=[-1 for i in range(n+2)]\n",
    "    \n",
    "    dp[0]= 0\n",
    "    dp[1]= 1\n",
    "    \n",
    "    i=2\n",
    "    while i< len(dp):\n",
    "        dp[i]=dp[i-1] + dp[i-2]\n",
    "        i+=1\n",
    "    return dp[n+1]\n",
    "\n",
    "print(climbStairsDP(7))\n",
    "        "
   ]
  },
  {
   "cell_type": "code",
   "execution_count": 12,
   "metadata": {},
   "outputs": [
    {
     "name": "stdout",
     "output_type": "stream",
     "text": [
      "0\n"
     ]
    }
   ],
   "source": [
    "def climbStairs(n):\n",
    "    if n==0:\n",
    "        return 1\n",
    "    \n",
    "    if n<0:\n",
    "        return 0\n",
    "    \n",
    "    ans1= climbStairs(n-1)\n",
    "    ans2= climbStairs(n-2)\n",
    "    \n",
    "    ans=ans1 + ans2\n",
    "    \n",
    "    return ans\n",
    "\n",
    "print(climbStairs(-1))"
   ]
  }
 ],
 "metadata": {
  "kernelspec": {
   "display_name": "Python 3",
   "language": "python",
   "name": "python3"
  },
  "language_info": {
   "codemirror_mode": {
    "name": "ipython",
    "version": 3
   },
   "file_extension": ".py",
   "mimetype": "text/x-python",
   "name": "python",
   "nbconvert_exporter": "python",
   "pygments_lexer": "ipython3",
   "version": "3.7.4"
  }
 },
 "nbformat": 4,
 "nbformat_minor": 2
}

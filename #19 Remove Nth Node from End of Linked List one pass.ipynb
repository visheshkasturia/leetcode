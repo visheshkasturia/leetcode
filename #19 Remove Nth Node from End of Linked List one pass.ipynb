{
 "cells": [
  {
   "cell_type": "code",
   "execution_count": 27,
   "metadata": {},
   "outputs": [
    {
     "name": "stdout",
     "output_type": "stream",
     "text": [
      "1->2->3->4->5->6->7->None\n",
      "1->2->3->4->6->7->None\n"
     ]
    }
   ],
   "source": [
    "class ListNode:\n",
    "    def __init__(self,val):\n",
    "        self.val=val\n",
    "        self.next=None\n",
    "        \n",
    "def removeNthfromEnd(head,n):\n",
    "    \n",
    "    curr=head\n",
    "    npre=None\n",
    "    for i in range(n):\n",
    "        curr=curr.next\n",
    "    \n",
    "    \n",
    "    npre=head\n",
    "    prev=None\n",
    "    while curr is not None:\n",
    "        prev=npre\n",
    "        npre=npre.next\n",
    "        curr=curr.next\n",
    "        \n",
    "#     print(npre.val)\n",
    "    \n",
    "    if prev is None:\n",
    "        head=npre.next\n",
    "        npre.next=None\n",
    "    else:\n",
    "        prev.next=npre.next\n",
    "        npre.next=None\n",
    "    \n",
    "    return head\n",
    "\n",
    "def takeInput():\n",
    "    inputList=[1,2,3,4,5,6,7,-1]\n",
    "    \n",
    "    head=None\n",
    "    tail=None\n",
    "    \n",
    "    for currData in inputList:\n",
    "        if currData==-1:\n",
    "            break\n",
    "            \n",
    "        newNode=ListNode(currData)\n",
    "        \n",
    "        if head is None:\n",
    "            head=newNode\n",
    "            tail=newNode\n",
    "        else:\n",
    "            tail.next=newNode\n",
    "            tail=newNode\n",
    "        \n",
    "    return head\n",
    "\n",
    "def printLL(head):\n",
    "    while head is not None:\n",
    "        print(str(head.val)+\"->\",end=\"\")\n",
    "        head=head.next\n",
    "    print(\"None\")\n",
    "\n",
    "head=takeInput()\n",
    "printLL(head)\n",
    "head=removeNthfromEnd(head,3)\n",
    "printLL(head)"
   ]
  }
 ],
 "metadata": {
  "kernelspec": {
   "display_name": "Python 3",
   "language": "python",
   "name": "python3"
  },
  "language_info": {
   "codemirror_mode": {
    "name": "ipython",
    "version": 3
   },
   "file_extension": ".py",
   "mimetype": "text/x-python",
   "name": "python",
   "nbconvert_exporter": "python",
   "pygments_lexer": "ipython3",
   "version": "3.7.4"
  }
 },
 "nbformat": 4,
 "nbformat_minor": 2
}

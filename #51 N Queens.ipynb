{
 "cells": [
  {
   "cell_type": "code",
   "execution_count": 12,
   "metadata": {},
   "outputs": [
    {
     "name": "stdout",
     "output_type": "stream",
     "text": [
      "4\n",
      "[['.Q..', '...Q', 'Q...', '..Q.'], ['..Q.', 'Q...', '...Q', '.Q..']]\n"
     ]
    },
    {
     "data": {
      "text/plain": [
       "[['.Q..', '...Q', 'Q...', '..Q.'], ['..Q.', 'Q...', '...Q', '.Q..']]"
      ]
     },
     "execution_count": 12,
     "metadata": {},
     "output_type": "execute_result"
    }
   ],
   "source": [
    "#validate\n",
    "def isSafe(n,board,row,col):\n",
    "    #check Column\n",
    "    i=row\n",
    "    while i>=0:\n",
    "        if board[i][col]==1:\n",
    "            return False\n",
    "        i=i-1\n",
    "    \n",
    "    #check left Diagonal\n",
    "    i=row\n",
    "    j=col\n",
    "    \n",
    "    while i>=0 and j>=0:\n",
    "        if board[i][j]==1:\n",
    "            return False\n",
    "        i-=1\n",
    "        j-=1\n",
    "        \n",
    "    #check right diagonal\n",
    "    i=row\n",
    "    j=col\n",
    "    \n",
    "    while i>=0 and j<n:\n",
    "        if board[i][j]==1:\n",
    "            return False\n",
    "        i-=1\n",
    "        j+=1\n",
    "    \n",
    "    return True\n",
    "\n",
    "#Nqueen Solver\n",
    "def nQueenSolver(n,board,row,solution):\n",
    "    if row==n:\n",
    "        li=[]\n",
    "        for x in board:\n",
    "            s=\"\"\n",
    "            for digit in x:\n",
    "                if digit==0:\n",
    "                    s+=\".\"\n",
    "                else:\n",
    "                    s+=\"Q\"\n",
    "            li.append(s)\n",
    "        solution.append(li)\n",
    "            \n",
    "        return\n",
    "    \n",
    "    for col in range(n):\n",
    "        if isSafe(n,board,row,col) is True:\n",
    "            board[row][col]=1\n",
    "            nQueenSolver(n,board,row+1,solution)\n",
    "            board[row][col]=0\n",
    "    return \n",
    "\n",
    "#Nqueen Caller \n",
    "\n",
    "def nQueen():\n",
    "    n=int(input())\n",
    "    solution=[]\n",
    "    board=[[0 for j in range(n)] for i in range(n)]\n",
    "    nQueenSolver(n,board,0,solution)\n",
    "    return solution\n",
    "\n",
    "nQueen()"
   ]
  }
 ],
 "metadata": {
  "kernelspec": {
   "display_name": "Python 3",
   "language": "python",
   "name": "python3"
  },
  "language_info": {
   "codemirror_mode": {
    "name": "ipython",
    "version": 3
   },
   "file_extension": ".py",
   "mimetype": "text/x-python",
   "name": "python",
   "nbconvert_exporter": "python",
   "pygments_lexer": "ipython3",
   "version": "3.7.4"
  }
 },
 "nbformat": 4,
 "nbformat_minor": 2
}

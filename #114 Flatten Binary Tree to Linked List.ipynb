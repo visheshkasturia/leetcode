{
 "cells": [
  {
   "cell_type": "code",
   "execution_count": 27,
   "metadata": {},
   "outputs": [
    {
     "name": "stdout",
     "output_type": "stream",
     "text": [
      "1 2 -1 3 4 5 -1 -1 -1 -1 -1\n",
      "1 \n",
      "2 \n",
      "3 4 \n",
      "5 \n",
      "1->2->3->5->4->None\n"
     ]
    }
   ],
   "source": [
    "import queue\n",
    "\n",
    "class TreeNode:\n",
    "    def __init__(self,val):\n",
    "        self.val=val\n",
    "        self.left=None\n",
    "        self.right=None\n",
    "    \n",
    "def buildTree():\n",
    "    inputList=[int(x) for x in input().strip().split()]\n",
    "    rootval=inputList[0]\n",
    "    root=TreeNode(rootval)\n",
    "    \n",
    "    q=queue.Queue()\n",
    "    q.put(root)\n",
    "    i=1\n",
    "    while not(q.empty()):\n",
    "        currNode=q.get()\n",
    "        if inputList[i]!=-1:\n",
    "            leftChildval=inputList[i]\n",
    "            leftChild=TreeNode(leftChildval)\n",
    "            currNode.left=leftChild\n",
    "            q.put(leftChild)\n",
    "        i+=1\n",
    "        if inputList[i]!=-1:\n",
    "            rightChildval=inputList[i]\n",
    "            rightChild=TreeNode(rightChildval)\n",
    "            currNode.right=rightChild\n",
    "            q.put(rightChild)\n",
    "        \n",
    "        i+=1\n",
    "    \n",
    "    return root\n",
    "\n",
    "def printLevelWise(root):\n",
    "    \n",
    "    q1=queue.Queue()\n",
    "    q1.put(root)\n",
    "    q1.put(None)\n",
    "    \n",
    "    while not(q1.empty()):\n",
    "        currNode=q1.get()\n",
    "        \n",
    "        if currNode!=None:\n",
    "            print(currNode.val, end=\" \")\n",
    "            if currNode.left!=None:\n",
    "                q1.put(currNode.left)\n",
    "            if currNode.right!=None:\n",
    "                q1.put(currNode.right)\n",
    "            \n",
    "        else:\n",
    "            if not(q1.empty()):\n",
    "                print()\n",
    "                q1.put(None)\n",
    "        \n",
    "    return\n",
    "\n",
    "\n",
    "def flattenTreeHelper(root):\n",
    "    if root is None:\n",
    "        return None,None\n",
    "    \n",
    "    curr=root\n",
    "    temp=root.right\n",
    "    if root.left != None:\n",
    "        root.right,curr=flattenTreeHelper(root.left)\n",
    "        currPrev=curr\n",
    "        curr.right,curr=flattenTreeHelper(temp)\n",
    "        if curr is None:\n",
    "            curr=currPrev\n",
    "    else:\n",
    "        if root.right!=None:\n",
    "            root.right,curr=flattenTreeHelper(temp)\n",
    "    root.left=None\n",
    "    return root,curr\n",
    "\n",
    "\n",
    "def flattenTree(root):\n",
    "    head=flattenTreeHelper(root)[0]\n",
    "    return head\n",
    "def printLL(head):\n",
    "    while head is not None:\n",
    "        print(str(head.val)+\"->\",end=\"\")\n",
    "        head=head.right\n",
    "    \n",
    "    print(\"None\")\n",
    "    return\n",
    "\n",
    "root=buildTree()\n",
    "printLevelWise(root)\n",
    "head=flattenTree(root)\n",
    "print()\n",
    "printLL(head)"
   ]
  },
  {
   "cell_type": "code",
   "execution_count": 26,
   "metadata": {},
   "outputs": [
    {
     "ename": "SyntaxError",
     "evalue": "invalid syntax (<ipython-input-26-6a33da524af3>, line 1)",
     "output_type": "error",
     "traceback": [
      "\u001b[0;36m  File \u001b[0;32m\"<ipython-input-26-6a33da524af3>\"\u001b[0;36m, line \u001b[0;32m1\u001b[0m\n\u001b[0;31m    1 2 5 3 4 -1 6 -1 -1 -1 -1 -1 -1\u001b[0m\n\u001b[0m      ^\u001b[0m\n\u001b[0;31mSyntaxError\u001b[0m\u001b[0;31m:\u001b[0m invalid syntax\n"
     ]
    }
   ],
   "source": [
    "1 2 5 3 4 -1 6 -1 -1 -1 -1 -1 -1\n",
    "1 2 -1 3 -1 -1 -1\n",
    "1 2 -1 3 4 5 -1 -1 -1 -1 -1"
   ]
  }
 ],
 "metadata": {
  "kernelspec": {
   "display_name": "Python 3",
   "language": "python",
   "name": "python3"
  },
  "language_info": {
   "codemirror_mode": {
    "name": "ipython",
    "version": 3
   },
   "file_extension": ".py",
   "mimetype": "text/x-python",
   "name": "python",
   "nbconvert_exporter": "python",
   "pygments_lexer": "ipython3",
   "version": "3.7.4"
  }
 },
 "nbformat": 4,
 "nbformat_minor": 2
}

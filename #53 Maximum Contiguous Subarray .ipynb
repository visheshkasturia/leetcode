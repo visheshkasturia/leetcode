{
 "cells": [
  {
   "cell_type": "code",
   "execution_count": 5,
   "metadata": {},
   "outputs": [
    {
     "name": "stdout",
     "output_type": "stream",
     "text": [
      "6\n"
     ]
    }
   ],
   "source": [
    "#Using Kadane's Algorithm\n",
    "\n",
    "def returnMaxContSum(arr):\n",
    "    pref=0\n",
    "    maxi=-2147483647\n",
    "    \n",
    "    for i in range(len(arr)):\n",
    "        pref+=arr[i]\n",
    "        maxi=max(maxi,pref)\n",
    "        if pref<0:\n",
    "            pref=0\n",
    "    \n",
    "    return maxi\n",
    "\n",
    "arr=[-2,1,-3,4,-1,2,1,-5,4]\n",
    "print(returnMaxContSum(arr))"
   ]
  }
 ],
 "metadata": {
  "kernelspec": {
   "display_name": "Python 3",
   "language": "python",
   "name": "python3"
  },
  "language_info": {
   "codemirror_mode": {
    "name": "ipython",
    "version": 3
   },
   "file_extension": ".py",
   "mimetype": "text/x-python",
   "name": "python",
   "nbconvert_exporter": "python",
   "pygments_lexer": "ipython3",
   "version": "3.7.4"
  }
 },
 "nbformat": 4,
 "nbformat_minor": 2
}

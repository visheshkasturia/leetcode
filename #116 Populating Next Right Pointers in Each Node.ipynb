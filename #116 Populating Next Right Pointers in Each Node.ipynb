{
 "cells": [
  {
   "cell_type": "code",
   "execution_count": 11,
   "metadata": {},
   "outputs": [
    {
     "name": "stdout",
     "output_type": "stream",
     "text": [
      "1 2 3 4 5 6 7 -1 -1 -1 -1 -1 -1 -1 -1\n",
      "1 \n",
      "2 3 \n",
      "4 5 6 7 \n",
      "1-> None\n",
      "2-> 3\n",
      "4-> 5\n",
      "5-> 6\n",
      "3-> None\n",
      "6-> 7\n",
      "7-> None\n"
     ]
    }
   ],
   "source": [
    "import queue\n",
    "class TreeNode:\n",
    "    def __init__(self,val):\n",
    "        self.val=val\n",
    "        self.left=None\n",
    "        self.right=None\n",
    "        self.next=None\n",
    "        \n",
    "def buildTree():\n",
    "    inputList=[int(x) for x in input().strip().split()]\n",
    "    rootData=inputList[0]\n",
    "    root=TreeNode(rootData)\n",
    "    q=queue.Queue()\n",
    "    q.put(root)\n",
    "    i=1\n",
    "    while not(q.empty()):\n",
    "        currNode=q.get()\n",
    "        if inputList[i]!=-1:\n",
    "            leftChildData=inputList[i]\n",
    "            leftChild=TreeNode(leftChildData)\n",
    "            currNode.left=leftChild\n",
    "            q.put(leftChild)\n",
    "        i+=1\n",
    "        if inputList[i]!=-1:\n",
    "            rightChildData=inputList[i]\n",
    "            rightChild=TreeNode(rightChildData)\n",
    "            currNode.right=rightChild\n",
    "            q.put(rightChild)\n",
    "        \n",
    "        i+=1\n",
    "    \n",
    "    return root\n",
    "\n",
    "def printLevelWise(root):\n",
    "    q1=queue.Queue()\n",
    "    q1.put(root)\n",
    "    q1.put(None)\n",
    "    \n",
    "    while not(q1.empty()):\n",
    "        currNode=q1.get()\n",
    "        \n",
    "        if currNode!=None:\n",
    "            print(currNode.val,end=\" \")\n",
    "            if currNode.left!=None:\n",
    "                q1.put(currNode.left)\n",
    "            if currNode.right!=None:\n",
    "                q1.put(currNode.right)\n",
    "            \n",
    "        else:\n",
    "            if not(q1.empty()):\n",
    "                print()\n",
    "                q1.put(None)\n",
    "    return\n",
    "\n",
    "\n",
    "def connectPointers(root):\n",
    "    if root is None:\n",
    "        return\n",
    "    \n",
    "    if root.left is not None:\n",
    "        root.left.next=root.right\n",
    "        \n",
    "    if root.next is not None:\n",
    "        if root.right is not None:\n",
    "            root.right.next=root.next.left\n",
    "    \n",
    "    connectPointers(root.left)\n",
    "    connectPointers(root.right)\n",
    "    \n",
    "    return root\n",
    "    \n",
    "\n",
    "def printValAndNext(root):\n",
    "    if root is None:\n",
    "        return\n",
    "    print(str(root.val)+\"->\",end=\" \")\n",
    "    if root.next is None:\n",
    "        print(\"None\")\n",
    "    else:\n",
    "        print(str(root.next.val))\n",
    "    \n",
    "    printValAndNext(root.left)\n",
    "    printValAndNext(root.right)\n",
    "    \n",
    "root=buildTree()\n",
    "printLevelWise(root)\n",
    "head=connectPointers(root)\n",
    "print()\n",
    "printValAndNext(head)\n",
    "            "
   ]
  },
  {
   "cell_type": "code",
   "execution_count": null,
   "metadata": {},
   "outputs": [],
   "source": [
    "1 2 3 4 5 6 7 -1 -1 -1 -1 -1 -1 -1 -1"
   ]
  },
  {
   "cell_type": "code",
   "execution_count": null,
   "metadata": {},
   "outputs": [],
   "source": [
    "1 2 3 -1 -1 -1 -1"
   ]
  }
 ],
 "metadata": {
  "kernelspec": {
   "display_name": "Python 3",
   "language": "python",
   "name": "python3"
  },
  "language_info": {
   "codemirror_mode": {
    "name": "ipython",
    "version": 3
   },
   "file_extension": ".py",
   "mimetype": "text/x-python",
   "name": "python",
   "nbconvert_exporter": "python",
   "pygments_lexer": "ipython3",
   "version": "3.7.4"
  }
 },
 "nbformat": 4,
 "nbformat_minor": 2
}

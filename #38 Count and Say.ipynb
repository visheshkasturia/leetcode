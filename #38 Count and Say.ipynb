{
 "cells": [
  {
   "cell_type": "code",
   "execution_count": 19,
   "metadata": {},
   "outputs": [
    {
     "name": "stdout",
     "output_type": "stream",
     "text": [
      "1\n",
      "1\n"
     ]
    }
   ],
   "source": [
    "def countAndSayHelper(s,k,n,li):\n",
    "    if k==n:\n",
    "        li.append(s)\n",
    "        return\n",
    "    s1=\"\"\n",
    "    count=0\n",
    "    i=0\n",
    "    while i<len(s)-1:\n",
    "        if s[i]==s[i+1]:\n",
    "            count+=1\n",
    "        else:\n",
    "            s1+=str(count+1)+s[i]\n",
    "            count=0\n",
    "        i+=1\n",
    "    \n",
    "    if count==0:\n",
    "        s1+=\"1\"+s[i]\n",
    "    else:\n",
    "        s1+=str(count+1)+s[i]\n",
    "    \n",
    "    countAndSayHelper(s1,k+1,n,li)\n",
    "    \n",
    "def countAndSay(n):\n",
    "    s=\"1\"\n",
    "    k=1\n",
    "    li=[]\n",
    "    countAndSayHelper(s,k,n,li)\n",
    "    return li[0]\n",
    "    \n",
    "n=int(input())\n",
    "s=countAndSay(n)\n",
    "print(s)"
   ]
  }
 ],
 "metadata": {
  "kernelspec": {
   "display_name": "Python 3",
   "language": "python",
   "name": "python3"
  },
  "language_info": {
   "codemirror_mode": {
    "name": "ipython",
    "version": 3
   },
   "file_extension": ".py",
   "mimetype": "text/x-python",
   "name": "python",
   "nbconvert_exporter": "python",
   "pygments_lexer": "ipython3",
   "version": "3.7.4"
  }
 },
 "nbformat": 4,
 "nbformat_minor": 2
}

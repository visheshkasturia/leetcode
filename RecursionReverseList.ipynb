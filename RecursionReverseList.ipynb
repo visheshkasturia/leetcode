{
 "cells": [
  {
   "cell_type": "code",
   "execution_count": 15,
   "metadata": {},
   "outputs": [
    {
     "name": "stdout",
     "output_type": "stream",
     "text": [
      "['o', 'l', 'l', 'e', 'h']\n"
     ]
    }
   ],
   "source": [
    "def reverseList(li):\n",
    "    si=0\n",
    "    ei=len(li)-1\n",
    "    index(li,si,ei)\n",
    "    return li\n",
    "    \n",
    "def index(li,si,ei):\n",
    "    if si>=ei:\n",
    "        return li\n",
    "    else:\n",
    "        li[si],li[ei]=li[ei],li[si]\n",
    "        return index(li,si+1,ei-1)\n",
    "\n",
    "    \n",
    "\n",
    "li=[\"h\",\"e\",\"l\",'l','o']\n",
    "reverseList(li)\n",
    "print(li)"
   ]
  }
 ],
 "metadata": {
  "kernelspec": {
   "display_name": "Python 3",
   "language": "python",
   "name": "python3"
  },
  "language_info": {
   "codemirror_mode": {
    "name": "ipython",
    "version": 3
   },
   "file_extension": ".py",
   "mimetype": "text/x-python",
   "name": "python",
   "nbconvert_exporter": "python",
   "pygments_lexer": "ipython3",
   "version": "3.7.4"
  }
 },
 "nbformat": 4,
 "nbformat_minor": 2
}

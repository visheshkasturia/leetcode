{
 "cells": [
  {
   "cell_type": "markdown",
   "metadata": {},
   "source": [
    "### Remove Duplicates from a Sorted List and Return Index till which the list is to be parsed"
   ]
  },
  {
   "cell_type": "code",
   "execution_count": 1,
   "metadata": {},
   "outputs": [
    {
     "name": "stdout",
     "output_type": "stream",
     "text": [
      "[1, 2, 3, 4, 5, 1, 4, 2, 1]\n"
     ]
    }
   ],
   "source": [
    "def removeDuplicates(li):\n",
    "    i=0\n",
    "    j=0\n",
    "    while i<len(li): \n",
    "        if i!=len(li)-1 and li[i]==li[i+1]:\n",
    "            i=i+1\n",
    "            continue\n",
    "            \n",
    "        li[i],li[j]=li[j],li[i]\n",
    "        j=j+1\n",
    "        i=i+1\n",
    "    \n",
    "    return j\n",
    "\n",
    "li=[1,1,1,2,2,3,4,4,5]\n",
    "removeDuplicates(li)"
   ]
  }
 ],
 "metadata": {
  "kernelspec": {
   "display_name": "Python 3",
   "language": "python",
   "name": "python3"
  },
  "language_info": {
   "codemirror_mode": {
    "name": "ipython",
    "version": 3
   },
   "file_extension": ".py",
   "mimetype": "text/x-python",
   "name": "python",
   "nbconvert_exporter": "python",
   "pygments_lexer": "ipython3",
   "version": "3.7.4"
  }
 },
 "nbformat": 4,
 "nbformat_minor": 2
}

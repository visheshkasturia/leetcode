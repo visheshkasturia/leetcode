{
 "cells": [
  {
   "cell_type": "code",
   "execution_count": 16,
   "metadata": {},
   "outputs": [
    {
     "name": "stdout",
     "output_type": "stream",
     "text": [
      "3 4\n",
      "1 2 3 4 5 6 7 8 9 10 11 12\n",
      "1 2 3 4 \n",
      "5 6 7 8 \n",
      "9 10 11 12 \n"
     ]
    },
    {
     "data": {
      "text/plain": [
       "[1, 2, 3, 4, 8, 12, 11, 10, 9, 5, 6, 7]"
      ]
     },
     "execution_count": 16,
     "metadata": {},
     "output_type": "execute_result"
    }
   ],
   "source": [
    "def spiralPrint(arr,m,n):\n",
    "    solution=[]\n",
    "    rs=0\n",
    "    cs=0\n",
    "    re=m-1\n",
    "    ce=n-1\n",
    "    counter=1\n",
    "    while counter <= m*n:\n",
    "        i=rs\n",
    "        j=cs\n",
    "        while j<=ce and counter <= n*m:\n",
    "            solution.append(arr[i][j])\n",
    "            counter=counter+1\n",
    "            j=j+1\n",
    "        rs=rs+1\n",
    "        j=ce\n",
    "        i=rs\n",
    "        while i<=re and counter <= n*m:\n",
    "            solution.append(arr[i][j])\n",
    "            counter=counter+1\n",
    "            i=i+1\n",
    "        \n",
    "        ce=ce-1\n",
    "        j=ce\n",
    "        i=re\n",
    "        while j>=cs and counter <= n*m:\n",
    "            solution.append(arr[i][j])\n",
    "            counter=counter+1\n",
    "            j=j-1\n",
    "        re=re-1\n",
    "        i=re\n",
    "        j=cs\n",
    "        while i>=rs and counter <= n*m:\n",
    "            solution.append(arr[i][j])\n",
    "            counter=counter+1\n",
    "            i=i-1\n",
    "        cs=cs+1\n",
    "    return solution\n",
    "    \n",
    "    \n",
    "    \n",
    "s=input().split()\n",
    "m,n=int(s[0]),int(s[1])\n",
    "s1=input().split()\n",
    "arr=[[int(s1[n*i +j]) for j in range(n)] for i in range(m)]\n",
    "for row in arr:\n",
    "    for ele in row:\n",
    "        print(ele,end=\" \")\n",
    "    print()\n",
    "    \n",
    "spiralPrint(arr,m,n)\n",
    "\n"
   ]
  }
 ],
 "metadata": {
  "kernelspec": {
   "display_name": "Python 3",
   "language": "python",
   "name": "python3"
  },
  "language_info": {
   "codemirror_mode": {
    "name": "ipython",
    "version": 3
   },
   "file_extension": ".py",
   "mimetype": "text/x-python",
   "name": "python",
   "nbconvert_exporter": "python",
   "pygments_lexer": "ipython3",
   "version": "3.7.4"
  }
 },
 "nbformat": 4,
 "nbformat_minor": 2
}

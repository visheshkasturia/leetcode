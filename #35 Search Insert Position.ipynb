{
 "cells": [
  {
   "cell_type": "code",
   "execution_count": 31,
   "metadata": {},
   "outputs": [
    {
     "name": "stdout",
     "output_type": "stream",
     "text": [
      "8\n"
     ]
    }
   ],
   "source": [
    "def searchInsertPos(arr,x):\n",
    "    length=len(arr)\n",
    "    si=0\n",
    "    ei=length-1\n",
    "    mid=(si+ei)//2\n",
    "    \n",
    "    while si<ei:\n",
    "        if arr[mid]==x:\n",
    "            break\n",
    "        elif arr[mid]>x:\n",
    "            ei=mid-1\n",
    "            mid=(si+ei)//2\n",
    "        else:\n",
    "            si=mid+1\n",
    "            mid=(si+ei)//2\n",
    "    \n",
    "    if arr[mid]<x:\n",
    "        return mid+1\n",
    "    else:\n",
    "        return mid\n",
    "            \n",
    "\n",
    "\n",
    "\n",
    "arr=[0,2,4,8,11,15,17,20]\n",
    "x=21\n",
    "print(searchInsertPos(arr,x))"
   ]
  }
 ],
 "metadata": {
  "kernelspec": {
   "display_name": "Python 3",
   "language": "python",
   "name": "python3"
  },
  "language_info": {
   "codemirror_mode": {
    "name": "ipython",
    "version": 3
   },
   "file_extension": ".py",
   "mimetype": "text/x-python",
   "name": "python",
   "nbconvert_exporter": "python",
   "pygments_lexer": "ipython3",
   "version": "3.7.4"
  }
 },
 "nbformat": 4,
 "nbformat_minor": 2
}

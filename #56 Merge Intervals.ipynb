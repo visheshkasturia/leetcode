{
 "cells": [
  {
   "cell_type": "code",
   "execution_count": 19,
   "metadata": {},
   "outputs": [
    {
     "name": "stdout",
     "output_type": "stream",
     "text": [
      "[[1, 3], [2, 6], [5, 7], [8, 10], [15, 18]]\n",
      "[[1, 7], [8, 10], [15, 18]]\n"
     ]
    }
   ],
   "source": [
    "def mergeIntervals(arr):\n",
    "    intervals.sort(key= lambda x:x[0])\n",
    "    n=len(intervals)\n",
    "    i=0\n",
    "    li=[]\n",
    "    while i<n:\n",
    "        flag=True\n",
    "        i_s=intervals[i][0]\n",
    "        i_e=intervals[i][1]\n",
    "        while i<n-1 and i_e>=intervals[i+1][0]:\n",
    "            i_e=max(i_e,intervals[i+1][1])\n",
    "            i+=1\n",
    "\n",
    "        li.append([i_s,i_e])\n",
    "        i+=1\n",
    "    return li\n",
    "            \n",
    "    \n",
    "    \n",
    "    \n",
    "intervals=[[1,3],[8,10],[2,6],[5,7],[15,18]]\n",
    "li=mergeIntervals(intervals)\n",
    "print(li)"
   ]
  }
 ],
 "metadata": {
  "kernelspec": {
   "display_name": "Python 3",
   "language": "python",
   "name": "python3"
  },
  "language_info": {
   "codemirror_mode": {
    "name": "ipython",
    "version": 3
   },
   "file_extension": ".py",
   "mimetype": "text/x-python",
   "name": "python",
   "nbconvert_exporter": "python",
   "pygments_lexer": "ipython3",
   "version": "3.7.4"
  }
 },
 "nbformat": 4,
 "nbformat_minor": 2
}

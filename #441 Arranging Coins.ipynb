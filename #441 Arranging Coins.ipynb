{
 "cells": [
  {
   "cell_type": "code",
   "execution_count": 14,
   "metadata": {},
   "outputs": [
    {
     "name": "stdout",
     "output_type": "stream",
     "text": [
      "5\n",
      "*\n",
      "**\n",
      "**\n",
      "2\n"
     ]
    }
   ],
   "source": [
    "def fullStaircase(n):\n",
    "    countC=0\n",
    "    countS=0\n",
    "    i=1\n",
    "    flag=True\n",
    "    while flag:\n",
    "        j=1\n",
    "        while j<=i:\n",
    "            if countC<n:\n",
    "                countC+=1\n",
    "                print(\"*\",end=\"\")\n",
    "            else:\n",
    "                flag=False\n",
    "                break\n",
    "            j+=1\n",
    "        print()\n",
    "        countS+=1\n",
    "        i+=1\n",
    "    \n",
    "    return countS-1\n",
    "\n",
    "\n",
    "n=int(input())\n",
    "print(fullStaircase(n))"
   ]
  }
 ],
 "metadata": {
  "kernelspec": {
   "display_name": "Python 3",
   "language": "python",
   "name": "python3"
  },
  "language_info": {
   "codemirror_mode": {
    "name": "ipython",
    "version": 3
   },
   "file_extension": ".py",
   "mimetype": "text/x-python",
   "name": "python",
   "nbconvert_exporter": "python",
   "pygments_lexer": "ipython3",
   "version": "3.7.4"
  }
 },
 "nbformat": 4,
 "nbformat_minor": 2
}

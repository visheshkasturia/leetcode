{
 "cells": [
  {
   "cell_type": "code",
   "execution_count": 7,
   "metadata": {},
   "outputs": [
    {
     "name": "stdout",
     "output_type": "stream",
     "text": [
      "[6, 5, 6, 5, 4, 4, 4, 3, 3, 4, 3, 2, 4, 3, 2, 1, 0]\n",
      "6\n"
     ]
    }
   ],
   "source": [
    "\n",
    "def jump(nums):\n",
    "    n=len(nums)\n",
    "    if n==0:\n",
    "        return 0\n",
    "\n",
    "    dp=[0 for x in range(n)]\n",
    "    for j in range(n-2,-1,-1):\n",
    "        fur_distance=j+nums[j]\n",
    "        if fur_distance>n-1:\n",
    "            dp[j]=1\n",
    "        else:\n",
    "            ans=1000000\n",
    "            for x in range(fur_distance,j,-1):\n",
    "                ans=min(ans,dp[x])\n",
    "            ans=1+ans\n",
    "            dp[j]=ans\n",
    "    return dp[0]\n",
    "    \n",
    "\n",
    "arr=[2,3,1,1,4,2,3,4,5,1,2,4,1,1,1,2,4]\n",
    "print(jump(arr))"
   ]
  },
  {
   "cell_type": "code",
   "execution_count": null,
   "metadata": {},
   "outputs": [],
   "source": [
    "[2,3,1,1,4,2,3,4,5,1,2,4,1,1,1,2,4]"
   ]
  }
 ],
 "metadata": {
  "kernelspec": {
   "display_name": "Python 3",
   "language": "python",
   "name": "python3"
  },
  "language_info": {
   "codemirror_mode": {
    "name": "ipython",
    "version": 3
   },
   "file_extension": ".py",
   "mimetype": "text/x-python",
   "name": "python",
   "nbconvert_exporter": "python",
   "pygments_lexer": "ipython3",
   "version": "3.7.4"
  }
 },
 "nbformat": 4,
 "nbformat_minor": 2
}

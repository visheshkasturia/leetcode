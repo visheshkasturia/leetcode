{
 "cells": [
  {
   "cell_type": "code",
   "execution_count": 8,
   "metadata": {},
   "outputs": [
    {
     "data": {
      "text/plain": [
       "''"
      ]
     },
     "execution_count": 8,
     "metadata": {},
     "output_type": "execute_result"
    }
   ],
   "source": [
    "def lpc(arr):\n",
    "    if len(arr)==0:\n",
    "        return \"\"\n",
    "    min_s_l=len(arr[0])\n",
    "    min_s=arr[0]\n",
    "    for i in range(1,len(arr)):\n",
    "        x=len(arr[i])\n",
    "        if x<min_s_l:\n",
    "            min_s_l=x\n",
    "            min_s=arr[i]\n",
    "    \n",
    "    lpc=\"\"\n",
    "    for i in range(min_s_l):\n",
    "        char=min_s[i]\n",
    "        \n",
    "        for j in range(len(arr)):\n",
    "            if arr[j][i]!=char:\n",
    "                return lpc\n",
    "        lpc+=char\n",
    "    \n",
    "    return lpc\n",
    "\n",
    "arr=[\"\"]\n",
    "lpc(arr)"
   ]
  }
 ],
 "metadata": {
  "kernelspec": {
   "display_name": "Python 3",
   "language": "python",
   "name": "python3"
  },
  "language_info": {
   "codemirror_mode": {
    "name": "ipython",
    "version": 3
   },
   "file_extension": ".py",
   "mimetype": "text/x-python",
   "name": "python",
   "nbconvert_exporter": "python",
   "pygments_lexer": "ipython3",
   "version": "3.7.4"
  }
 },
 "nbformat": 4,
 "nbformat_minor": 2
}

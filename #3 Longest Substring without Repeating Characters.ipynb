{
 "cells": [
  {
   "cell_type": "markdown",
   "metadata": {},
   "source": [
    "### Better Solution"
   ]
  },
  {
   "cell_type": "code",
   "execution_count": 2,
   "metadata": {},
   "outputs": [
    {
     "name": "stdout",
     "output_type": "stream",
     "text": [
      "3\n"
     ]
    }
   ],
   "source": [
    "def longestSubstring1(s):\n",
    "    if s==\"\":\n",
    "        return 0\n",
    "    \n",
    "    d={}\n",
    "    start=0\n",
    "    ls=0\n",
    "    \n",
    "    for i in range(len(s)):\n",
    "        if s[i] in d and start<=d[s[i]]:\n",
    "            start=d[s[i]]+1\n",
    "        else:\n",
    "            ls=max(ls,i-start+1)\n",
    "        d[s[i]]=i\n",
    "    \n",
    "    return ls\n",
    "\n",
    "s=\"dvdf\"\n",
    "print(longestSubstring1(s))"
   ]
  },
  {
   "cell_type": "code",
   "execution_count": 2,
   "metadata": {},
   "outputs": [
    {
     "name": "stdout",
     "output_type": "stream",
     "text": [
      "3\n"
     ]
    }
   ],
   "source": [
    "def longestSubstring(s):\n",
    "    ls=s[0]\n",
    "    curr_ls=s[0]\n",
    "    for i in range(1,len(s)):\n",
    "        if s[i] not in curr_ls:\n",
    "            curr_ls+=s[i]\n",
    "            if len(curr_ls)> len(ls):\n",
    "                ls=curr_ls\n",
    "        else:\n",
    "            x=curr_ls.find(s[i])\n",
    "            curr_ls=curr_ls[x+1:]+s[i]\n",
    "    return len(ls)\n",
    "\n",
    "s=\"pwwkew\"\n",
    "print(longestSubstring(s))"
   ]
  }
 ],
 "metadata": {
  "kernelspec": {
   "display_name": "Python 3",
   "language": "python",
   "name": "python3"
  },
  "language_info": {
   "codemirror_mode": {
    "name": "ipython",
    "version": 3
   },
   "file_extension": ".py",
   "mimetype": "text/x-python",
   "name": "python",
   "nbconvert_exporter": "python",
   "pygments_lexer": "ipython3",
   "version": "3.7.4"
  }
 },
 "nbformat": 4,
 "nbformat_minor": 2
}

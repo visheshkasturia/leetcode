{
 "cells": [
  {
   "cell_type": "code",
   "execution_count": 13,
   "metadata": {},
   "outputs": [
    {
     "name": "stdout",
     "output_type": "stream",
     "text": [
      "28\n"
     ]
    }
   ],
   "source": [
    "def uniquePaths(arr,m,n):\n",
    "    \n",
    "    dp=[[0 for j in range(n)] for i in range(m)]\n",
    "    \n",
    "    for i in range(m-1,-1,-1):\n",
    "        for j in range(n-1,-1,-1):\n",
    "            if i==m-1 and j==n-1:\n",
    "                dp[i][j]=1\n",
    "            elif i==m-1:\n",
    "                dp[i][j]= dp[i][j+1]\n",
    "            elif j==n-1:\n",
    "                dp[i][j]= dp[i+1][j]\n",
    "            else:\n",
    "                dp[i][j]= dp[i+1][j] + dp[i][j+1]\n",
    "                \n",
    "    return dp[0][0]\n",
    "\n",
    "arr=[]\n",
    "print(uniquePaths(arr,7,3))"
   ]
  }
 ],
 "metadata": {
  "kernelspec": {
   "display_name": "Python 3",
   "language": "python",
   "name": "python3"
  },
  "language_info": {
   "codemirror_mode": {
    "name": "ipython",
    "version": 3
   },
   "file_extension": ".py",
   "mimetype": "text/x-python",
   "name": "python",
   "nbconvert_exporter": "python",
   "pygments_lexer": "ipython3",
   "version": "3.7.4"
  }
 },
 "nbformat": 4,
 "nbformat_minor": 2
}

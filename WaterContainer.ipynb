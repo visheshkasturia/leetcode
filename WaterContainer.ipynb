{
 "cells": [
  {
   "cell_type": "markdown",
   "metadata": {},
   "source": [
    "### Return Max Water that can be contained"
   ]
  },
  {
   "cell_type": "raw",
   "metadata": {},
   "source": [
    "Correct Solution"
   ]
  },
  {
   "cell_type": "code",
   "execution_count": null,
   "metadata": {},
   "outputs": [],
   "source": [
    "def maxWater2(height):\n",
    "    i,j = 0, len(height)-1\n",
    "\n",
    "    max_w = 0\n",
    "\n",
    "    while i < j:\n",
    "        if height[i] < height[j]:\n",
    "            area = height[i] * (j-i)  \n",
    "            if max_w < area:\n",
    "                max_w = area\n",
    "            i = i + 1\n",
    "        else:\n",
    "            area = height[j] * (j - i) \n",
    "            if max_w < area:\n",
    "                max_w = area\n",
    "            j = j - 1\n",
    "    return max_w\n",
    "\n",
    "height=[1,8,6,2,5,4,8,3,7]\n",
    "height2=height=[1,3,9,4,7,3,1,2]\n",
    "maxWater2(height)\n",
    "maxWater2(height2)"
   ]
  },
  {
   "cell_type": "raw",
   "metadata": {},
   "source": [
    "Testing"
   ]
  },
  {
   "cell_type": "code",
   "execution_count": 2,
   "metadata": {},
   "outputs": [
    {
     "name": "stdout",
     "output_type": "stream",
     "text": [
      "\n",
      "3\n",
      "1\n",
      "\n",
      "3\n",
      "5\n",
      "12\n"
     ]
    }
   ],
   "source": [
    "def maxWater(height):\n",
    "    length=len(height)\n",
    "    i=0\n",
    "    j=length-1\n",
    "    max_w= 0\n",
    "    max_w_i=0\n",
    "    max_w_j=length-1\n",
    "    while i<j:\n",
    "        while height[i]<height[max_w_i]:\n",
    "            i=i+1\n",
    "        \n",
    "        if min(height[i],height[max_w_j])*(max_w_j-i) >= max_w:\n",
    "            max_w=min(height[i],height[max_w_j])*(max_w_j-i)\n",
    "            max_w_i=i\n",
    "#         if(i==1):\n",
    "#             print(height[i])\n",
    "#             print(max_w)\n",
    "            \n",
    "        while height[j]<height[max_w_j]:\n",
    "            j=j-1\n",
    "            \n",
    "#         print()\n",
    "        \n",
    "        if min(height[max_w_i],height[j])*(j-max_w_i) >= max_w:\n",
    "            max_w=min(height[max_w_i],height[j])*(j-max_w_i)\n",
    "            max_w_j=j\n",
    "            \n",
    "            \n",
    "        \n",
    "#         if j==len(height)-2:\n",
    "#             print(height[i])\n",
    "#             print(min(height[i],height[j])*(j-i))\n",
    "#             print(j)\n",
    "#             print(height[j])\n",
    "#             print(max_w)\n",
    "        i=i+1\n",
    "        j=j-1\n",
    "    print()\n",
    "    print(height[max_w_i])\n",
    "    print(max_w_i)\n",
    "    print()\n",
    "    print(height[max_w_j])\n",
    "    print(max_w_j)\n",
    "    print(max_w)\n",
    "    \n",
    "height=[1,3,9,4,7,3,1,2]\n",
    "maxWater(height)"
   ]
  },
  {
   "cell_type": "code",
   "execution_count": null,
   "metadata": {},
   "outputs": [],
   "source": []
  }
 ],
 "metadata": {
  "kernelspec": {
   "display_name": "Python 3",
   "language": "python",
   "name": "python3"
  },
  "language_info": {
   "codemirror_mode": {
    "name": "ipython",
    "version": 3
   },
   "file_extension": ".py",
   "mimetype": "text/x-python",
   "name": "python",
   "nbconvert_exporter": "python",
   "pygments_lexer": "ipython3",
   "version": "3.7.4"
  }
 },
 "nbformat": 4,
 "nbformat_minor": 2
}

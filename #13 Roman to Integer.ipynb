{
 "cells": [
  {
   "cell_type": "code",
   "execution_count": 4,
   "metadata": {},
   "outputs": [
    {
     "name": "stdout",
     "output_type": "stream",
     "text": [
      "58\n"
     ]
    }
   ],
   "source": [
    "def romanToInteger(s):\n",
    "    d={\"I\":1,\"V\":5, \"X\":10, \"L\":50, \"C\":100, \"D\":500,\"M\":1000}\n",
    "    \n",
    "    if s==\"\":\n",
    "        return 0\n",
    "    convert=0\n",
    "    for i in range(len(s)-1):\n",
    "        if d[s[i+1]]>d[s[i]]:\n",
    "            convert-=d[s[i]]\n",
    "        else:\n",
    "            convert+=d[s[i]]\n",
    "    convert+=d[s[len(s)-1]]\n",
    "    \n",
    "    return convert\n",
    "\n",
    "s=\"LVIII\"\n",
    "print(romanToInteger(s))"
   ]
  }
 ],
 "metadata": {
  "kernelspec": {
   "display_name": "Python 3",
   "language": "python",
   "name": "python3"
  },
  "language_info": {
   "codemirror_mode": {
    "name": "ipython",
    "version": 3
   },
   "file_extension": ".py",
   "mimetype": "text/x-python",
   "name": "python",
   "nbconvert_exporter": "python",
   "pygments_lexer": "ipython3",
   "version": "3.7.4"
  }
 },
 "nbformat": 4,
 "nbformat_minor": 2
}

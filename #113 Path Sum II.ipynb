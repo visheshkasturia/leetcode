{
 "cells": [
  {
   "cell_type": "code",
   "execution_count": 18,
   "metadata": {},
   "outputs": [
    {
     "name": "stdout",
     "output_type": "stream",
     "text": [
      "5 4 8 11 -1 13 4 7 2 -1 -1 5 1 -1 -1 -1 -1 -1 -1 -1 -1\n",
      "5 \n",
      "4 8 \n",
      "11 13 4 \n",
      "7 2 5 1 "
     ]
    },
    {
     "data": {
      "text/plain": [
       "[[5, 4, 11, 2], [5, 8, 4, 5]]"
      ]
     },
     "execution_count": 18,
     "metadata": {},
     "output_type": "execute_result"
    }
   ],
   "source": [
    "import queue\n",
    "\n",
    "class TreeNode:\n",
    "    def __init__(self,data):\n",
    "        self.data=data\n",
    "        self.left=None\n",
    "        self.right=None\n",
    "    \n",
    "def buildTree():\n",
    "    inputList=[int(x) for x in input().strip().split()]\n",
    "    rootData=inputList[0]\n",
    "    root=TreeNode(rootData)\n",
    "    \n",
    "    q=queue.Queue()\n",
    "    q.put(root)\n",
    "    i=1\n",
    "    while not(q.empty()):\n",
    "        currNode=q.get()\n",
    "        if inputList[i]!=-1:\n",
    "            leftChildData=inputList[i]\n",
    "            leftChild=TreeNode(leftChildData)\n",
    "            currNode.left=leftChild\n",
    "            q.put(leftChild)\n",
    "        i+=1\n",
    "        if inputList[i]!=-1:\n",
    "            rightChildData=inputList[i]\n",
    "            rightChild=TreeNode(rightChildData)\n",
    "            currNode.right=rightChild\n",
    "            q.put(rightChild)\n",
    "        \n",
    "        i+=1\n",
    "    \n",
    "    return root\n",
    "\n",
    "def printLevelWise(root):\n",
    "    \n",
    "    q1=queue.Queue()\n",
    "    q1.put(root)\n",
    "    q1.put(None)\n",
    "    \n",
    "    while not(q1.empty()):\n",
    "        currNode=q1.get()\n",
    "        \n",
    "        if currNode!=None:\n",
    "            print(currNode.data, end=\" \")\n",
    "            if currNode.left!=None:\n",
    "                q1.put(currNode.left)\n",
    "            if currNode.right!=None:\n",
    "                q1.put(currNode.right)\n",
    "            \n",
    "        else:\n",
    "            if not(q1.empty()):\n",
    "                print()\n",
    "                q1.put(None)\n",
    "        \n",
    "    return\n",
    "\n",
    "def pathSumHelper(root,arr,k,solution):\n",
    "    if root is None:\n",
    "        return\n",
    "    if root.left is None and root.right is None:\n",
    "        if root.data==k:\n",
    "            arr.append(root.data)\n",
    "            li=arr[:]\n",
    "            solution.append(li)\n",
    "            arr.pop()\n",
    "            return\n",
    "        return\n",
    "    \n",
    "    arr.append(root.data)\n",
    "    pathSumHelper(root.left,arr,k-root.data,solution)\n",
    "    pathSumHelper(root.right,arr,k-root.data,solution)\n",
    "    arr.pop()\n",
    "    return\n",
    "\n",
    "def pathSum(root,k):\n",
    "    arr=[]\n",
    "    solution=[]\n",
    "    pathSumHelper(root,arr,k,solution)\n",
    "    return solution\n",
    "\n",
    "root=buildTree()\n",
    "printLevelWise(root)\n",
    "pathSum(root,22)"
   ]
  },
  {
   "cell_type": "code",
   "execution_count": null,
   "metadata": {},
   "outputs": [],
   "source": [
    "5 4 8 11 -1 13 4 7 2 -1 -1 5 1 -1 -1 -1 -1 -1 -1 -1 -1"
   ]
  }
 ],
 "metadata": {
  "kernelspec": {
   "display_name": "Python 3",
   "language": "python",
   "name": "python3"
  },
  "language_info": {
   "codemirror_mode": {
    "name": "ipython",
    "version": 3
   },
   "file_extension": ".py",
   "mimetype": "text/x-python",
   "name": "python",
   "nbconvert_exporter": "python",
   "pygments_lexer": "ipython3",
   "version": "3.7.4"
  }
 },
 "nbformat": 4,
 "nbformat_minor": 2
}

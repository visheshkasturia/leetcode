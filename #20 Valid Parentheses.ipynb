{
 "cells": [
  {
   "cell_type": "code",
   "execution_count": 8,
   "metadata": {},
   "outputs": [
    {
     "name": "stdout",
     "output_type": "stream",
     "text": [
      "True\n"
     ]
    }
   ],
   "source": [
    "def validParentheses(s):\n",
    "    stack=[]\n",
    "    for char in s:\n",
    "        if char in \"{[(\":\n",
    "            stack.append(char)\n",
    "\n",
    "        elif len(stack)!=0:\n",
    "            \n",
    "            if char==\")\":\n",
    "                ele=stack.pop()\n",
    "                if ele!=\"(\":\n",
    "                    return False\n",
    "            elif char==\"]\":\n",
    "                ele=stack.pop()\n",
    "                if ele!=\"[\":\n",
    "                    return False\n",
    "            elif char==\"}\":\n",
    "                ele=stack.pop()\n",
    "                if ele!=\"{\":\n",
    "                    return False\n",
    "        else:\n",
    "            return False\n",
    "        \n",
    "    if len(stack)==0:\n",
    "        return True\n",
    "    else:\n",
    "        return False\n",
    "    \n",
    "s=\"()\"\n",
    "print(validParentheses(s))"
   ]
  }
 ],
 "metadata": {
  "kernelspec": {
   "display_name": "Python 3",
   "language": "python",
   "name": "python3"
  },
  "language_info": {
   "codemirror_mode": {
    "name": "ipython",
    "version": 3
   },
   "file_extension": ".py",
   "mimetype": "text/x-python",
   "name": "python",
   "nbconvert_exporter": "python",
   "pygments_lexer": "ipython3",
   "version": "3.7.4"
  }
 },
 "nbformat": 4,
 "nbformat_minor": 2
}

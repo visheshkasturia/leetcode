{
 "cells": [
  {
   "cell_type": "code",
   "execution_count": 4,
   "metadata": {},
   "outputs": [
    {
     "name": "stdout",
     "output_type": "stream",
     "text": [
      "23\n",
      "['ad', 'ae', 'af', 'bd', 'be', 'bf', 'cd', 'ce', 'cf']\n"
     ]
    }
   ],
   "source": [
    "def generateCombinationsHelper(s_i,s_o,d,output):\n",
    "    if len(s_i)==0:\n",
    "        output.append(s_o)\n",
    "        return\n",
    "    \n",
    "    s1=s_i[1:]\n",
    "    for char in d[s_i[0]]:\n",
    "        s2=s_o+char\n",
    "        generateCombinationsHelper(s1,s2,d,output)\n",
    "    \n",
    "    return\n",
    "\n",
    "\n",
    "\n",
    "def generateCombinations(s):\n",
    "    output=[]\n",
    "    d={\"2\":\"abc\",\"3\":\"def\",\"4\":\"ghi\",\"5\":\"jkl\",\"6\":\"mno\",\"7\":\"pqrs\",\"8\":\"tuv\",\"9\":\"xyz\"}\n",
    "    generateCombinationsHelper(s,\"\",d,output)\n",
    "    \n",
    "    return output\n",
    "\n",
    "\n",
    "s=input()\n",
    "output=generateCombinations(s)\n",
    "print(output)"
   ]
  }
 ],
 "metadata": {
  "kernelspec": {
   "display_name": "Python 3",
   "language": "python",
   "name": "python3"
  },
  "language_info": {
   "codemirror_mode": {
    "name": "ipython",
    "version": 3
   },
   "file_extension": ".py",
   "mimetype": "text/x-python",
   "name": "python",
   "nbconvert_exporter": "python",
   "pygments_lexer": "ipython3",
   "version": "3.7.4"
  }
 },
 "nbformat": 4,
 "nbformat_minor": 2
}

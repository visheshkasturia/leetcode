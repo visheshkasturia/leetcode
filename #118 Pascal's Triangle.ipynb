{
 "cells": [
  {
   "cell_type": "code",
   "execution_count": 9,
   "metadata": {},
   "outputs": [
    {
     "name": "stdout",
     "output_type": "stream",
     "text": [
      "5\n",
      "[[1], [1, 1], [1, 2, 1], [1, 3, 3, 1], [1, 4, 6, 4, 1]]\n"
     ]
    }
   ],
   "source": [
    "def pascalTriangle(n):\n",
    "    if n==0:\n",
    "        return []\n",
    "    \n",
    "    li=[[1],[1,1]]\n",
    "    \n",
    "    if n<=2:\n",
    "        return li[:n]\n",
    "    \n",
    "    i=2\n",
    "    while i<n:\n",
    "        j=0\n",
    "        arr=[]\n",
    "        while j<=i:\n",
    "            if j==0 or j==i:\n",
    "                k=1\n",
    "                arr.append(k)\n",
    "            else:\n",
    "                k=li[i-1][j-1]+li[i-1][j]\n",
    "                arr.append(k)\n",
    "            j+=1\n",
    "        i+=1\n",
    "        li.append(arr)\n",
    "    return li\n",
    "\n",
    "n=int(input())\n",
    "print(pascalTriangle(n))"
   ]
  }
 ],
 "metadata": {
  "kernelspec": {
   "display_name": "Python 3",
   "language": "python",
   "name": "python3"
  },
  "language_info": {
   "codemirror_mode": {
    "name": "ipython",
    "version": 3
   },
   "file_extension": ".py",
   "mimetype": "text/x-python",
   "name": "python",
   "nbconvert_exporter": "python",
   "pygments_lexer": "ipython3",
   "version": "3.7.4"
  }
 },
 "nbformat": 4,
 "nbformat_minor": 2
}

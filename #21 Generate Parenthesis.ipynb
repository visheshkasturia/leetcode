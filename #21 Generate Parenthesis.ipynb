{
 "cells": [
  {
   "cell_type": "code",
   "execution_count": 17,
   "metadata": {},
   "outputs": [
    {
     "name": "stdout",
     "output_type": "stream",
     "text": [
      "3\n",
      "['((()))', '(()())', '(())()', '()(())', '()()()']\n"
     ]
    }
   ],
   "source": [
    "def generateParenthesisHelper(i,j,s,li,n):\n",
    "    if j==n:\n",
    "        li.append(s)\n",
    "        return\n",
    "    \n",
    "    if i<n:\n",
    "        s1=s+\"(\"\n",
    "        generateParenthesisHelper(i+1,j,s1,li,n)\n",
    "        if j<i:\n",
    "            s2=s+\")\"\n",
    "            generateParenthesisHelper(i,j+1,s2,li,n)\n",
    "    else:\n",
    "        s2=s+\")\"\n",
    "        j+=1\n",
    "        while j<n:\n",
    "            s2=s2+\")\"\n",
    "            j+=1\n",
    "        generateParenthesisHelper(i,j,s2,li,n)\n",
    "            \n",
    "    \n",
    "    return\n",
    "\n",
    "\n",
    "def generateParentheses(n):\n",
    "    li=[]\n",
    "    generateParenthesisHelper(0,0,\"\",li,n)\n",
    "    return li\n",
    "\n",
    "n=int(input())\n",
    "li=generateParentheses(n)\n",
    "print(li)"
   ]
  }
 ],
 "metadata": {
  "kernelspec": {
   "display_name": "Python 3",
   "language": "python",
   "name": "python3"
  },
  "language_info": {
   "codemirror_mode": {
    "name": "ipython",
    "version": 3
   },
   "file_extension": ".py",
   "mimetype": "text/x-python",
   "name": "python",
   "nbconvert_exporter": "python",
   "pygments_lexer": "ipython3",
   "version": "3.7.4"
  }
 },
 "nbformat": 4,
 "nbformat_minor": 2
}

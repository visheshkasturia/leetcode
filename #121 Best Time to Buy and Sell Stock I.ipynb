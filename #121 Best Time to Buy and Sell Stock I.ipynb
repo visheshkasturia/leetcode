{
 "cells": [
  {
   "cell_type": "code",
   "execution_count": 6,
   "metadata": {},
   "outputs": [
    {
     "name": "stdout",
     "output_type": "stream",
     "text": [
      "9\n"
     ]
    }
   ],
   "source": [
    "def maxProfit(prices):\n",
    "    \n",
    "    maxP=0\n",
    "    si=0\n",
    "    i=1\n",
    "    while i <len(prices):\n",
    "        p=prices[i]-prices[si]\n",
    "        if p<0:\n",
    "            si=i\n",
    "        else:\n",
    "            maxP=max(maxP,p)\n",
    "        i+=1\n",
    "\n",
    "    return maxP\n",
    "\n",
    "prices=[7,8,5,3,6,1,4,10]\n",
    "print(maxProfit(prices))\n",
    "    \n"
   ]
  }
 ],
 "metadata": {
  "kernelspec": {
   "display_name": "Python 3",
   "language": "python",
   "name": "python3"
  },
  "language_info": {
   "codemirror_mode": {
    "name": "ipython",
    "version": 3
   },
   "file_extension": ".py",
   "mimetype": "text/x-python",
   "name": "python",
   "nbconvert_exporter": "python",
   "pygments_lexer": "ipython3",
   "version": "3.7.4"
  }
 },
 "nbformat": 4,
 "nbformat_minor": 2
}
